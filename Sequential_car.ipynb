{
  "nbformat": 4,
  "nbformat_minor": 0,
  "metadata": {
    "colab": {
      "provenance": []
    },
    "kernelspec": {
      "name": "python3",
      "display_name": "Python 3"
    },
    "language_info": {
      "name": "python"
    }
  },
  "cells": [
    {
      "cell_type": "code",
      "execution_count": 69,
      "metadata": {
        "id": "jKfIUA39HYg3"
      },
      "outputs": [],
      "source": [
        "import pandas as pd\n",
        "import numpy as np\n",
        "import pickle\n",
        "from sklearn.preprocessing import LabelEncoder\n",
        "from sklearn.model_selection import train_test_split\n",
        "from keras.models import Sequential\n",
        "from keras.layers import Dense,Activation\n",
        "from keras.utils.np_utils import to_categorical"
      ]
    },
    {
      "cell_type": "code",
      "source": [
        "df=pd.read_csv('/content/archive (8).zip',header=None,)\n",
        "df.columns=['Buying_Price','Maintenance_cost','No of Doors','No. of Person','Lug_boot','Safety','Decision']\n",
        "df.head()"
      ],
      "metadata": {
        "id": "_WSps_WnIE0n",
        "colab": {
          "base_uri": "https://localhost:8080/",
          "height": 206
        },
        "outputId": "32b4795c-e3c5-4c44-9402-ae4a19d63622"
      },
      "execution_count": 70,
      "outputs": [
        {
          "output_type": "execute_result",
          "data": {
            "text/plain": [
              "  Buying_Price Maintenance_cost No of Doors No. of Person Lug_boot Safety  \\\n",
              "0        vhigh            vhigh           2             2    small    low   \n",
              "1        vhigh            vhigh           2             2    small    med   \n",
              "2        vhigh            vhigh           2             2    small   high   \n",
              "3        vhigh            vhigh           2             2      med    low   \n",
              "4        vhigh            vhigh           2             2      med    med   \n",
              "\n",
              "  Decision  \n",
              "0    unacc  \n",
              "1    unacc  \n",
              "2    unacc  \n",
              "3    unacc  \n",
              "4    unacc  "
            ],
            "text/html": [
              "\n",
              "  <div id=\"df-33169b97-d68b-4e84-a98b-b980e29dff17\">\n",
              "    <div class=\"colab-df-container\">\n",
              "      <div>\n",
              "<style scoped>\n",
              "    .dataframe tbody tr th:only-of-type {\n",
              "        vertical-align: middle;\n",
              "    }\n",
              "\n",
              "    .dataframe tbody tr th {\n",
              "        vertical-align: top;\n",
              "    }\n",
              "\n",
              "    .dataframe thead th {\n",
              "        text-align: right;\n",
              "    }\n",
              "</style>\n",
              "<table border=\"1\" class=\"dataframe\">\n",
              "  <thead>\n",
              "    <tr style=\"text-align: right;\">\n",
              "      <th></th>\n",
              "      <th>Buying_Price</th>\n",
              "      <th>Maintenance_cost</th>\n",
              "      <th>No of Doors</th>\n",
              "      <th>No. of Person</th>\n",
              "      <th>Lug_boot</th>\n",
              "      <th>Safety</th>\n",
              "      <th>Decision</th>\n",
              "    </tr>\n",
              "  </thead>\n",
              "  <tbody>\n",
              "    <tr>\n",
              "      <th>0</th>\n",
              "      <td>vhigh</td>\n",
              "      <td>vhigh</td>\n",
              "      <td>2</td>\n",
              "      <td>2</td>\n",
              "      <td>small</td>\n",
              "      <td>low</td>\n",
              "      <td>unacc</td>\n",
              "    </tr>\n",
              "    <tr>\n",
              "      <th>1</th>\n",
              "      <td>vhigh</td>\n",
              "      <td>vhigh</td>\n",
              "      <td>2</td>\n",
              "      <td>2</td>\n",
              "      <td>small</td>\n",
              "      <td>med</td>\n",
              "      <td>unacc</td>\n",
              "    </tr>\n",
              "    <tr>\n",
              "      <th>2</th>\n",
              "      <td>vhigh</td>\n",
              "      <td>vhigh</td>\n",
              "      <td>2</td>\n",
              "      <td>2</td>\n",
              "      <td>small</td>\n",
              "      <td>high</td>\n",
              "      <td>unacc</td>\n",
              "    </tr>\n",
              "    <tr>\n",
              "      <th>3</th>\n",
              "      <td>vhigh</td>\n",
              "      <td>vhigh</td>\n",
              "      <td>2</td>\n",
              "      <td>2</td>\n",
              "      <td>med</td>\n",
              "      <td>low</td>\n",
              "      <td>unacc</td>\n",
              "    </tr>\n",
              "    <tr>\n",
              "      <th>4</th>\n",
              "      <td>vhigh</td>\n",
              "      <td>vhigh</td>\n",
              "      <td>2</td>\n",
              "      <td>2</td>\n",
              "      <td>med</td>\n",
              "      <td>med</td>\n",
              "      <td>unacc</td>\n",
              "    </tr>\n",
              "  </tbody>\n",
              "</table>\n",
              "</div>\n",
              "      <button class=\"colab-df-convert\" onclick=\"convertToInteractive('df-33169b97-d68b-4e84-a98b-b980e29dff17')\"\n",
              "              title=\"Convert this dataframe to an interactive table.\"\n",
              "              style=\"display:none;\">\n",
              "        \n",
              "  <svg xmlns=\"http://www.w3.org/2000/svg\" height=\"24px\"viewBox=\"0 0 24 24\"\n",
              "       width=\"24px\">\n",
              "    <path d=\"M0 0h24v24H0V0z\" fill=\"none\"/>\n",
              "    <path d=\"M18.56 5.44l.94 2.06.94-2.06 2.06-.94-2.06-.94-.94-2.06-.94 2.06-2.06.94zm-11 1L8.5 8.5l.94-2.06 2.06-.94-2.06-.94L8.5 2.5l-.94 2.06-2.06.94zm10 10l.94 2.06.94-2.06 2.06-.94-2.06-.94-.94-2.06-.94 2.06-2.06.94z\"/><path d=\"M17.41 7.96l-1.37-1.37c-.4-.4-.92-.59-1.43-.59-.52 0-1.04.2-1.43.59L10.3 9.45l-7.72 7.72c-.78.78-.78 2.05 0 2.83L4 21.41c.39.39.9.59 1.41.59.51 0 1.02-.2 1.41-.59l7.78-7.78 2.81-2.81c.8-.78.8-2.07 0-2.86zM5.41 20L4 18.59l7.72-7.72 1.47 1.35L5.41 20z\"/>\n",
              "  </svg>\n",
              "      </button>\n",
              "      \n",
              "  <style>\n",
              "    .colab-df-container {\n",
              "      display:flex;\n",
              "      flex-wrap:wrap;\n",
              "      gap: 12px;\n",
              "    }\n",
              "\n",
              "    .colab-df-convert {\n",
              "      background-color: #E8F0FE;\n",
              "      border: none;\n",
              "      border-radius: 50%;\n",
              "      cursor: pointer;\n",
              "      display: none;\n",
              "      fill: #1967D2;\n",
              "      height: 32px;\n",
              "      padding: 0 0 0 0;\n",
              "      width: 32px;\n",
              "    }\n",
              "\n",
              "    .colab-df-convert:hover {\n",
              "      background-color: #E2EBFA;\n",
              "      box-shadow: 0px 1px 2px rgba(60, 64, 67, 0.3), 0px 1px 3px 1px rgba(60, 64, 67, 0.15);\n",
              "      fill: #174EA6;\n",
              "    }\n",
              "\n",
              "    [theme=dark] .colab-df-convert {\n",
              "      background-color: #3B4455;\n",
              "      fill: #D2E3FC;\n",
              "    }\n",
              "\n",
              "    [theme=dark] .colab-df-convert:hover {\n",
              "      background-color: #434B5C;\n",
              "      box-shadow: 0px 1px 3px 1px rgba(0, 0, 0, 0.15);\n",
              "      filter: drop-shadow(0px 1px 2px rgba(0, 0, 0, 0.3));\n",
              "      fill: #FFFFFF;\n",
              "    }\n",
              "  </style>\n",
              "\n",
              "      <script>\n",
              "        const buttonEl =\n",
              "          document.querySelector('#df-33169b97-d68b-4e84-a98b-b980e29dff17 button.colab-df-convert');\n",
              "        buttonEl.style.display =\n",
              "          google.colab.kernel.accessAllowed ? 'block' : 'none';\n",
              "\n",
              "        async function convertToInteractive(key) {\n",
              "          const element = document.querySelector('#df-33169b97-d68b-4e84-a98b-b980e29dff17');\n",
              "          const dataTable =\n",
              "            await google.colab.kernel.invokeFunction('convertToInteractive',\n",
              "                                                     [key], {});\n",
              "          if (!dataTable) return;\n",
              "\n",
              "          const docLinkHtml = 'Like what you see? Visit the ' +\n",
              "            '<a target=\"_blank\" href=https://colab.research.google.com/notebooks/data_table.ipynb>data table notebook</a>'\n",
              "            + ' to learn more about interactive tables.';\n",
              "          element.innerHTML = '';\n",
              "          dataTable['output_type'] = 'display_data';\n",
              "          await google.colab.output.renderOutput(dataTable, element);\n",
              "          const docLink = document.createElement('div');\n",
              "          docLink.innerHTML = docLinkHtml;\n",
              "          element.appendChild(docLink);\n",
              "        }\n",
              "      </script>\n",
              "    </div>\n",
              "  </div>\n",
              "  "
            ]
          },
          "metadata": {},
          "execution_count": 70
        }
      ]
    },
    {
      "cell_type": "code",
      "source": [
        "df.isna().sum()"
      ],
      "metadata": {
        "colab": {
          "base_uri": "https://localhost:8080/"
        },
        "id": "QwAA-gqfIMXp",
        "outputId": "d38927ad-641e-4ea7-f2a4-f34b5ce96242"
      },
      "execution_count": 71,
      "outputs": [
        {
          "output_type": "execute_result",
          "data": {
            "text/plain": [
              "Buying_Price        0\n",
              "Maintenance_cost    0\n",
              "No of Doors         0\n",
              "No. of Person       0\n",
              "Lug_boot            0\n",
              "Safety              0\n",
              "Decision            0\n",
              "dtype: int64"
            ]
          },
          "metadata": {},
          "execution_count": 71
        }
      ]
    },
    {
      "cell_type": "code",
      "source": [
        "df.dtypes"
      ],
      "metadata": {
        "id": "F9EI_TX9IRjP",
        "colab": {
          "base_uri": "https://localhost:8080/"
        },
        "outputId": "0f8df135-806e-40b4-eaeb-ddaf7360ad6b"
      },
      "execution_count": 72,
      "outputs": [
        {
          "output_type": "execute_result",
          "data": {
            "text/plain": [
              "Buying_Price        object\n",
              "Maintenance_cost    object\n",
              "No of Doors         object\n",
              "No. of Person       object\n",
              "Lug_boot            object\n",
              "Safety              object\n",
              "Decision            object\n",
              "dtype: object"
            ]
          },
          "metadata": {},
          "execution_count": 72
        }
      ]
    },
    {
      "cell_type": "code",
      "source": [
        "df['Buying_Price'].value_counts()"
      ],
      "metadata": {
        "colab": {
          "base_uri": "https://localhost:8080/"
        },
        "id": "E4nYt0BgKi-F",
        "outputId": "0039043c-626e-4154-fdba-ffe7272f78b4"
      },
      "execution_count": 73,
      "outputs": [
        {
          "output_type": "execute_result",
          "data": {
            "text/plain": [
              "vhigh    432\n",
              "high     432\n",
              "med      432\n",
              "low      432\n",
              "Name: Buying_Price, dtype: int64"
            ]
          },
          "metadata": {},
          "execution_count": 73
        }
      ]
    },
    {
      "cell_type": "code",
      "source": [
        "df['Maintenance_cost'].value_counts()"
      ],
      "metadata": {
        "colab": {
          "base_uri": "https://localhost:8080/"
        },
        "id": "i8KDxtryKwMZ",
        "outputId": "2fba1308-347c-4a95-99ce-04f85e1957a6"
      },
      "execution_count": 74,
      "outputs": [
        {
          "output_type": "execute_result",
          "data": {
            "text/plain": [
              "vhigh    432\n",
              "high     432\n",
              "med      432\n",
              "low      432\n",
              "Name: Maintenance_cost, dtype: int64"
            ]
          },
          "metadata": {},
          "execution_count": 74
        }
      ]
    },
    {
      "cell_type": "code",
      "source": [
        "df['No of Doors'].value_counts()"
      ],
      "metadata": {
        "colab": {
          "base_uri": "https://localhost:8080/"
        },
        "id": "ETc7Ck4XK7f1",
        "outputId": "a4382280-04c6-417f-a399-ca6fe14c2293"
      },
      "execution_count": 75,
      "outputs": [
        {
          "output_type": "execute_result",
          "data": {
            "text/plain": [
              "2        432\n",
              "3        432\n",
              "4        432\n",
              "5more    432\n",
              "Name: No of Doors, dtype: int64"
            ]
          },
          "metadata": {},
          "execution_count": 75
        }
      ]
    },
    {
      "cell_type": "code",
      "source": [
        "df['Lug_boot'].value_counts()"
      ],
      "metadata": {
        "colab": {
          "base_uri": "https://localhost:8080/"
        },
        "id": "MZVAttdBLAJg",
        "outputId": "2e1a92d9-64a3-4716-a3be-57044f41ec7c"
      },
      "execution_count": 76,
      "outputs": [
        {
          "output_type": "execute_result",
          "data": {
            "text/plain": [
              "small    576\n",
              "med      576\n",
              "big      576\n",
              "Name: Lug_boot, dtype: int64"
            ]
          },
          "metadata": {},
          "execution_count": 76
        }
      ]
    },
    {
      "cell_type": "code",
      "source": [
        "df['Safety'].value_counts()"
      ],
      "metadata": {
        "colab": {
          "base_uri": "https://localhost:8080/"
        },
        "id": "KqvjSmVbK_2e",
        "outputId": "9a24dc35-d10d-4bef-b61a-814e89297ff8"
      },
      "execution_count": 77,
      "outputs": [
        {
          "output_type": "execute_result",
          "data": {
            "text/plain": [
              "low     576\n",
              "med     576\n",
              "high    576\n",
              "Name: Safety, dtype: int64"
            ]
          },
          "metadata": {},
          "execution_count": 77
        }
      ]
    },
    {
      "cell_type": "code",
      "source": [
        "df['Decision'].value_counts()"
      ],
      "metadata": {
        "colab": {
          "base_uri": "https://localhost:8080/"
        },
        "id": "xyHK7AIXLU_3",
        "outputId": "c24abc84-5383-486f-f524-23a1802d9b32"
      },
      "execution_count": 78,
      "outputs": [
        {
          "output_type": "execute_result",
          "data": {
            "text/plain": [
              "unacc    1210\n",
              "acc       384\n",
              "good       69\n",
              "vgood      65\n",
              "Name: Decision, dtype: int64"
            ]
          },
          "metadata": {},
          "execution_count": 78
        }
      ]
    },
    {
      "cell_type": "code",
      "source": [
        "le=LabelEncoder()\n",
        "df['Buying_Price']=le.fit_transform(df['Buying_Price'])\n",
        "df['Maintenance_cost']=le.fit_transform(df['Maintenance_cost'])\n",
        "df['Lug_boot']=le.fit_transform(df['Lug_boot'])\n",
        "df['Safety']=le.fit_transform(df['Safety'])\n",
        "df['No. of Person']=le.fit_transform(df['No. of Person'])\n",
        "df['No of Doors']=le.fit_transform(df['No of Doors'])\n",
        "df['Decision']=le.fit_transform(df['Decision'])"
      ],
      "metadata": {
        "id": "nCtx7ei0LwQX"
      },
      "execution_count": 79,
      "outputs": []
    },
    {
      "cell_type": "code",
      "source": [
        "df.corr()"
      ],
      "metadata": {
        "colab": {
          "base_uri": "https://localhost:8080/",
          "height": 269
        },
        "id": "6PJ_AY4nSh9N",
        "outputId": "89bfcfc1-0ce5-4e06-edaa-657ebdbb301c"
      },
      "execution_count": 80,
      "outputs": [
        {
          "output_type": "execute_result",
          "data": {
            "text/plain": [
              "                  Buying_Price  Maintenance_cost   No of Doors  No. of Person  \\\n",
              "Buying_Price      1.000000e+00     -3.436808e-16 -2.097088e-16  -4.089152e-17   \n",
              "Maintenance_cost -3.436808e-16      1.000000e+00 -6.466021e-17  -4.272143e-17   \n",
              "No of Doors      -2.097088e-16     -6.466021e-17  1.000000e+00   1.956599e-17   \n",
              "No. of Person    -4.089152e-17     -4.272143e-17  1.956599e-17   1.000000e+00   \n",
              "Lug_boot         -1.691262e-16     -1.549092e-16 -1.942523e-17   3.854941e-18   \n",
              "Safety           -2.439415e-16     -1.404810e-16  1.062757e-16   3.392348e-17   \n",
              "Decision          5.142422e-02      4.019365e-02 -3.132740e-02  -2.994683e-01   \n",
              "\n",
              "                      Lug_boot        Safety  Decision  \n",
              "Buying_Price     -1.691262e-16 -2.439415e-16  0.051424  \n",
              "Maintenance_cost -1.549092e-16 -1.404810e-16  0.040194  \n",
              "No of Doors      -1.942523e-17  1.062757e-16 -0.031327  \n",
              "No. of Person     3.854941e-18  3.392348e-17 -0.299468  \n",
              "Lug_boot          1.000000e+00 -1.541976e-17  0.033184  \n",
              "Safety           -1.541976e-17  1.000000e+00 -0.021044  \n",
              "Decision          3.318432e-02 -2.104372e-02  1.000000  "
            ],
            "text/html": [
              "\n",
              "  <div id=\"df-b0fd78ca-70b6-476e-b950-2597b9827afe\">\n",
              "    <div class=\"colab-df-container\">\n",
              "      <div>\n",
              "<style scoped>\n",
              "    .dataframe tbody tr th:only-of-type {\n",
              "        vertical-align: middle;\n",
              "    }\n",
              "\n",
              "    .dataframe tbody tr th {\n",
              "        vertical-align: top;\n",
              "    }\n",
              "\n",
              "    .dataframe thead th {\n",
              "        text-align: right;\n",
              "    }\n",
              "</style>\n",
              "<table border=\"1\" class=\"dataframe\">\n",
              "  <thead>\n",
              "    <tr style=\"text-align: right;\">\n",
              "      <th></th>\n",
              "      <th>Buying_Price</th>\n",
              "      <th>Maintenance_cost</th>\n",
              "      <th>No of Doors</th>\n",
              "      <th>No. of Person</th>\n",
              "      <th>Lug_boot</th>\n",
              "      <th>Safety</th>\n",
              "      <th>Decision</th>\n",
              "    </tr>\n",
              "  </thead>\n",
              "  <tbody>\n",
              "    <tr>\n",
              "      <th>Buying_Price</th>\n",
              "      <td>1.000000e+00</td>\n",
              "      <td>-3.436808e-16</td>\n",
              "      <td>-2.097088e-16</td>\n",
              "      <td>-4.089152e-17</td>\n",
              "      <td>-1.691262e-16</td>\n",
              "      <td>-2.439415e-16</td>\n",
              "      <td>0.051424</td>\n",
              "    </tr>\n",
              "    <tr>\n",
              "      <th>Maintenance_cost</th>\n",
              "      <td>-3.436808e-16</td>\n",
              "      <td>1.000000e+00</td>\n",
              "      <td>-6.466021e-17</td>\n",
              "      <td>-4.272143e-17</td>\n",
              "      <td>-1.549092e-16</td>\n",
              "      <td>-1.404810e-16</td>\n",
              "      <td>0.040194</td>\n",
              "    </tr>\n",
              "    <tr>\n",
              "      <th>No of Doors</th>\n",
              "      <td>-2.097088e-16</td>\n",
              "      <td>-6.466021e-17</td>\n",
              "      <td>1.000000e+00</td>\n",
              "      <td>1.956599e-17</td>\n",
              "      <td>-1.942523e-17</td>\n",
              "      <td>1.062757e-16</td>\n",
              "      <td>-0.031327</td>\n",
              "    </tr>\n",
              "    <tr>\n",
              "      <th>No. of Person</th>\n",
              "      <td>-4.089152e-17</td>\n",
              "      <td>-4.272143e-17</td>\n",
              "      <td>1.956599e-17</td>\n",
              "      <td>1.000000e+00</td>\n",
              "      <td>3.854941e-18</td>\n",
              "      <td>3.392348e-17</td>\n",
              "      <td>-0.299468</td>\n",
              "    </tr>\n",
              "    <tr>\n",
              "      <th>Lug_boot</th>\n",
              "      <td>-1.691262e-16</td>\n",
              "      <td>-1.549092e-16</td>\n",
              "      <td>-1.942523e-17</td>\n",
              "      <td>3.854941e-18</td>\n",
              "      <td>1.000000e+00</td>\n",
              "      <td>-1.541976e-17</td>\n",
              "      <td>0.033184</td>\n",
              "    </tr>\n",
              "    <tr>\n",
              "      <th>Safety</th>\n",
              "      <td>-2.439415e-16</td>\n",
              "      <td>-1.404810e-16</td>\n",
              "      <td>1.062757e-16</td>\n",
              "      <td>3.392348e-17</td>\n",
              "      <td>-1.541976e-17</td>\n",
              "      <td>1.000000e+00</td>\n",
              "      <td>-0.021044</td>\n",
              "    </tr>\n",
              "    <tr>\n",
              "      <th>Decision</th>\n",
              "      <td>5.142422e-02</td>\n",
              "      <td>4.019365e-02</td>\n",
              "      <td>-3.132740e-02</td>\n",
              "      <td>-2.994683e-01</td>\n",
              "      <td>3.318432e-02</td>\n",
              "      <td>-2.104372e-02</td>\n",
              "      <td>1.000000</td>\n",
              "    </tr>\n",
              "  </tbody>\n",
              "</table>\n",
              "</div>\n",
              "      <button class=\"colab-df-convert\" onclick=\"convertToInteractive('df-b0fd78ca-70b6-476e-b950-2597b9827afe')\"\n",
              "              title=\"Convert this dataframe to an interactive table.\"\n",
              "              style=\"display:none;\">\n",
              "        \n",
              "  <svg xmlns=\"http://www.w3.org/2000/svg\" height=\"24px\"viewBox=\"0 0 24 24\"\n",
              "       width=\"24px\">\n",
              "    <path d=\"M0 0h24v24H0V0z\" fill=\"none\"/>\n",
              "    <path d=\"M18.56 5.44l.94 2.06.94-2.06 2.06-.94-2.06-.94-.94-2.06-.94 2.06-2.06.94zm-11 1L8.5 8.5l.94-2.06 2.06-.94-2.06-.94L8.5 2.5l-.94 2.06-2.06.94zm10 10l.94 2.06.94-2.06 2.06-.94-2.06-.94-.94-2.06-.94 2.06-2.06.94z\"/><path d=\"M17.41 7.96l-1.37-1.37c-.4-.4-.92-.59-1.43-.59-.52 0-1.04.2-1.43.59L10.3 9.45l-7.72 7.72c-.78.78-.78 2.05 0 2.83L4 21.41c.39.39.9.59 1.41.59.51 0 1.02-.2 1.41-.59l7.78-7.78 2.81-2.81c.8-.78.8-2.07 0-2.86zM5.41 20L4 18.59l7.72-7.72 1.47 1.35L5.41 20z\"/>\n",
              "  </svg>\n",
              "      </button>\n",
              "      \n",
              "  <style>\n",
              "    .colab-df-container {\n",
              "      display:flex;\n",
              "      flex-wrap:wrap;\n",
              "      gap: 12px;\n",
              "    }\n",
              "\n",
              "    .colab-df-convert {\n",
              "      background-color: #E8F0FE;\n",
              "      border: none;\n",
              "      border-radius: 50%;\n",
              "      cursor: pointer;\n",
              "      display: none;\n",
              "      fill: #1967D2;\n",
              "      height: 32px;\n",
              "      padding: 0 0 0 0;\n",
              "      width: 32px;\n",
              "    }\n",
              "\n",
              "    .colab-df-convert:hover {\n",
              "      background-color: #E2EBFA;\n",
              "      box-shadow: 0px 1px 2px rgba(60, 64, 67, 0.3), 0px 1px 3px 1px rgba(60, 64, 67, 0.15);\n",
              "      fill: #174EA6;\n",
              "    }\n",
              "\n",
              "    [theme=dark] .colab-df-convert {\n",
              "      background-color: #3B4455;\n",
              "      fill: #D2E3FC;\n",
              "    }\n",
              "\n",
              "    [theme=dark] .colab-df-convert:hover {\n",
              "      background-color: #434B5C;\n",
              "      box-shadow: 0px 1px 3px 1px rgba(0, 0, 0, 0.15);\n",
              "      filter: drop-shadow(0px 1px 2px rgba(0, 0, 0, 0.3));\n",
              "      fill: #FFFFFF;\n",
              "    }\n",
              "  </style>\n",
              "\n",
              "      <script>\n",
              "        const buttonEl =\n",
              "          document.querySelector('#df-b0fd78ca-70b6-476e-b950-2597b9827afe button.colab-df-convert');\n",
              "        buttonEl.style.display =\n",
              "          google.colab.kernel.accessAllowed ? 'block' : 'none';\n",
              "\n",
              "        async function convertToInteractive(key) {\n",
              "          const element = document.querySelector('#df-b0fd78ca-70b6-476e-b950-2597b9827afe');\n",
              "          const dataTable =\n",
              "            await google.colab.kernel.invokeFunction('convertToInteractive',\n",
              "                                                     [key], {});\n",
              "          if (!dataTable) return;\n",
              "\n",
              "          const docLinkHtml = 'Like what you see? Visit the ' +\n",
              "            '<a target=\"_blank\" href=https://colab.research.google.com/notebooks/data_table.ipynb>data table notebook</a>'\n",
              "            + ' to learn more about interactive tables.';\n",
              "          element.innerHTML = '';\n",
              "          dataTable['output_type'] = 'display_data';\n",
              "          await google.colab.output.renderOutput(dataTable, element);\n",
              "          const docLink = document.createElement('div');\n",
              "          docLink.innerHTML = docLinkHtml;\n",
              "          element.appendChild(docLink);\n",
              "        }\n",
              "      </script>\n",
              "    </div>\n",
              "  </div>\n",
              "  "
            ]
          },
          "metadata": {},
          "execution_count": 80
        }
      ]
    },
    {
      "cell_type": "code",
      "source": [
        "X=df.iloc[:,:-1]\n",
        "X.head()"
      ],
      "metadata": {
        "id": "UCrEor6jM4j9",
        "colab": {
          "base_uri": "https://localhost:8080/",
          "height": 206
        },
        "outputId": "3833141a-cf68-4b07-f8b8-be126361dd21"
      },
      "execution_count": 81,
      "outputs": [
        {
          "output_type": "execute_result",
          "data": {
            "text/plain": [
              "   Buying_Price  Maintenance_cost  No of Doors  No. of Person  Lug_boot  \\\n",
              "0             3                 3            0              0         2   \n",
              "1             3                 3            0              0         2   \n",
              "2             3                 3            0              0         2   \n",
              "3             3                 3            0              0         1   \n",
              "4             3                 3            0              0         1   \n",
              "\n",
              "   Safety  \n",
              "0       1  \n",
              "1       2  \n",
              "2       0  \n",
              "3       1  \n",
              "4       2  "
            ],
            "text/html": [
              "\n",
              "  <div id=\"df-d83d228b-afbc-47c8-aa76-ada180f088ad\">\n",
              "    <div class=\"colab-df-container\">\n",
              "      <div>\n",
              "<style scoped>\n",
              "    .dataframe tbody tr th:only-of-type {\n",
              "        vertical-align: middle;\n",
              "    }\n",
              "\n",
              "    .dataframe tbody tr th {\n",
              "        vertical-align: top;\n",
              "    }\n",
              "\n",
              "    .dataframe thead th {\n",
              "        text-align: right;\n",
              "    }\n",
              "</style>\n",
              "<table border=\"1\" class=\"dataframe\">\n",
              "  <thead>\n",
              "    <tr style=\"text-align: right;\">\n",
              "      <th></th>\n",
              "      <th>Buying_Price</th>\n",
              "      <th>Maintenance_cost</th>\n",
              "      <th>No of Doors</th>\n",
              "      <th>No. of Person</th>\n",
              "      <th>Lug_boot</th>\n",
              "      <th>Safety</th>\n",
              "    </tr>\n",
              "  </thead>\n",
              "  <tbody>\n",
              "    <tr>\n",
              "      <th>0</th>\n",
              "      <td>3</td>\n",
              "      <td>3</td>\n",
              "      <td>0</td>\n",
              "      <td>0</td>\n",
              "      <td>2</td>\n",
              "      <td>1</td>\n",
              "    </tr>\n",
              "    <tr>\n",
              "      <th>1</th>\n",
              "      <td>3</td>\n",
              "      <td>3</td>\n",
              "      <td>0</td>\n",
              "      <td>0</td>\n",
              "      <td>2</td>\n",
              "      <td>2</td>\n",
              "    </tr>\n",
              "    <tr>\n",
              "      <th>2</th>\n",
              "      <td>3</td>\n",
              "      <td>3</td>\n",
              "      <td>0</td>\n",
              "      <td>0</td>\n",
              "      <td>2</td>\n",
              "      <td>0</td>\n",
              "    </tr>\n",
              "    <tr>\n",
              "      <th>3</th>\n",
              "      <td>3</td>\n",
              "      <td>3</td>\n",
              "      <td>0</td>\n",
              "      <td>0</td>\n",
              "      <td>1</td>\n",
              "      <td>1</td>\n",
              "    </tr>\n",
              "    <tr>\n",
              "      <th>4</th>\n",
              "      <td>3</td>\n",
              "      <td>3</td>\n",
              "      <td>0</td>\n",
              "      <td>0</td>\n",
              "      <td>1</td>\n",
              "      <td>2</td>\n",
              "    </tr>\n",
              "  </tbody>\n",
              "</table>\n",
              "</div>\n",
              "      <button class=\"colab-df-convert\" onclick=\"convertToInteractive('df-d83d228b-afbc-47c8-aa76-ada180f088ad')\"\n",
              "              title=\"Convert this dataframe to an interactive table.\"\n",
              "              style=\"display:none;\">\n",
              "        \n",
              "  <svg xmlns=\"http://www.w3.org/2000/svg\" height=\"24px\"viewBox=\"0 0 24 24\"\n",
              "       width=\"24px\">\n",
              "    <path d=\"M0 0h24v24H0V0z\" fill=\"none\"/>\n",
              "    <path d=\"M18.56 5.44l.94 2.06.94-2.06 2.06-.94-2.06-.94-.94-2.06-.94 2.06-2.06.94zm-11 1L8.5 8.5l.94-2.06 2.06-.94-2.06-.94L8.5 2.5l-.94 2.06-2.06.94zm10 10l.94 2.06.94-2.06 2.06-.94-2.06-.94-.94-2.06-.94 2.06-2.06.94z\"/><path d=\"M17.41 7.96l-1.37-1.37c-.4-.4-.92-.59-1.43-.59-.52 0-1.04.2-1.43.59L10.3 9.45l-7.72 7.72c-.78.78-.78 2.05 0 2.83L4 21.41c.39.39.9.59 1.41.59.51 0 1.02-.2 1.41-.59l7.78-7.78 2.81-2.81c.8-.78.8-2.07 0-2.86zM5.41 20L4 18.59l7.72-7.72 1.47 1.35L5.41 20z\"/>\n",
              "  </svg>\n",
              "      </button>\n",
              "      \n",
              "  <style>\n",
              "    .colab-df-container {\n",
              "      display:flex;\n",
              "      flex-wrap:wrap;\n",
              "      gap: 12px;\n",
              "    }\n",
              "\n",
              "    .colab-df-convert {\n",
              "      background-color: #E8F0FE;\n",
              "      border: none;\n",
              "      border-radius: 50%;\n",
              "      cursor: pointer;\n",
              "      display: none;\n",
              "      fill: #1967D2;\n",
              "      height: 32px;\n",
              "      padding: 0 0 0 0;\n",
              "      width: 32px;\n",
              "    }\n",
              "\n",
              "    .colab-df-convert:hover {\n",
              "      background-color: #E2EBFA;\n",
              "      box-shadow: 0px 1px 2px rgba(60, 64, 67, 0.3), 0px 1px 3px 1px rgba(60, 64, 67, 0.15);\n",
              "      fill: #174EA6;\n",
              "    }\n",
              "\n",
              "    [theme=dark] .colab-df-convert {\n",
              "      background-color: #3B4455;\n",
              "      fill: #D2E3FC;\n",
              "    }\n",
              "\n",
              "    [theme=dark] .colab-df-convert:hover {\n",
              "      background-color: #434B5C;\n",
              "      box-shadow: 0px 1px 3px 1px rgba(0, 0, 0, 0.15);\n",
              "      filter: drop-shadow(0px 1px 2px rgba(0, 0, 0, 0.3));\n",
              "      fill: #FFFFFF;\n",
              "    }\n",
              "  </style>\n",
              "\n",
              "      <script>\n",
              "        const buttonEl =\n",
              "          document.querySelector('#df-d83d228b-afbc-47c8-aa76-ada180f088ad button.colab-df-convert');\n",
              "        buttonEl.style.display =\n",
              "          google.colab.kernel.accessAllowed ? 'block' : 'none';\n",
              "\n",
              "        async function convertToInteractive(key) {\n",
              "          const element = document.querySelector('#df-d83d228b-afbc-47c8-aa76-ada180f088ad');\n",
              "          const dataTable =\n",
              "            await google.colab.kernel.invokeFunction('convertToInteractive',\n",
              "                                                     [key], {});\n",
              "          if (!dataTable) return;\n",
              "\n",
              "          const docLinkHtml = 'Like what you see? Visit the ' +\n",
              "            '<a target=\"_blank\" href=https://colab.research.google.com/notebooks/data_table.ipynb>data table notebook</a>'\n",
              "            + ' to learn more about interactive tables.';\n",
              "          element.innerHTML = '';\n",
              "          dataTable['output_type'] = 'display_data';\n",
              "          await google.colab.output.renderOutput(dataTable, element);\n",
              "          const docLink = document.createElement('div');\n",
              "          docLink.innerHTML = docLinkHtml;\n",
              "          element.appendChild(docLink);\n",
              "        }\n",
              "      </script>\n",
              "    </div>\n",
              "  </div>\n",
              "  "
            ]
          },
          "metadata": {},
          "execution_count": 81
        }
      ]
    },
    {
      "cell_type": "code",
      "source": [
        "y=df.iloc[:,-1]\n",
        "y.head()"
      ],
      "metadata": {
        "id": "ExunnNxvOW-g",
        "colab": {
          "base_uri": "https://localhost:8080/"
        },
        "outputId": "7ef8ff07-c3da-4f13-cc35-77fc440c0e74"
      },
      "execution_count": 82,
      "outputs": [
        {
          "output_type": "execute_result",
          "data": {
            "text/plain": [
              "0    2\n",
              "1    2\n",
              "2    2\n",
              "3    2\n",
              "4    2\n",
              "Name: Decision, dtype: int64"
            ]
          },
          "metadata": {},
          "execution_count": 82
        }
      ]
    },
    {
      "cell_type": "code",
      "source": [
        "df.dtypes"
      ],
      "metadata": {
        "id": "8C36x8yeSV9m",
        "colab": {
          "base_uri": "https://localhost:8080/"
        },
        "outputId": "8832d7f9-9372-4b8c-ea73-2d1044a36baa"
      },
      "execution_count": 83,
      "outputs": [
        {
          "output_type": "execute_result",
          "data": {
            "text/plain": [
              "Buying_Price        int64\n",
              "Maintenance_cost    int64\n",
              "No of Doors         int64\n",
              "No. of Person       int64\n",
              "Lug_boot            int64\n",
              "Safety              int64\n",
              "Decision            int64\n",
              "dtype: object"
            ]
          },
          "metadata": {},
          "execution_count": 83
        }
      ]
    },
    {
      "cell_type": "code",
      "source": [
        "y=to_categorical(y)\n",
        "y"
      ],
      "metadata": {
        "id": "lracdhGCP3Ra",
        "colab": {
          "base_uri": "https://localhost:8080/"
        },
        "outputId": "b24fb8de-b2b5-46d4-c0d1-85c1c237aab7"
      },
      "execution_count": 84,
      "outputs": [
        {
          "output_type": "execute_result",
          "data": {
            "text/plain": [
              "array([[0., 0., 1., 0.],\n",
              "       [0., 0., 1., 0.],\n",
              "       [0., 0., 1., 0.],\n",
              "       ...,\n",
              "       [0., 0., 1., 0.],\n",
              "       [0., 1., 0., 0.],\n",
              "       [0., 0., 0., 1.]], dtype=float32)"
            ]
          },
          "metadata": {},
          "execution_count": 84
        }
      ]
    },
    {
      "cell_type": "code",
      "source": [
        "X_train,X_test,y_train,y_test=train_test_split(X,y,test_size=0.3,random_state=24)\n",
        "X_train.shape,X_test.shape,y_train.shape,y_test.shape"
      ],
      "metadata": {
        "id": "QWzcdhwMP8JI",
        "colab": {
          "base_uri": "https://localhost:8080/"
        },
        "outputId": "1930d9d9-f714-4c39-b460-83e2c02fef91"
      },
      "execution_count": 85,
      "outputs": [
        {
          "output_type": "execute_result",
          "data": {
            "text/plain": [
              "((1209, 6), (519, 6), (1209, 4), (519, 4))"
            ]
          },
          "metadata": {},
          "execution_count": 85
        }
      ]
    },
    {
      "cell_type": "code",
      "source": [
        "model=Sequential()\n",
        "model.add(Dense(6,activation='relu'))\n",
        "model.add(Dense(12,activation='relu'))\n",
        "model.add(Dense(8,activation='relu'))\n",
        "model.add(Dense(4,activation='relu'))\n",
        "model.add(Dense(4,activation='softmax'))"
      ],
      "metadata": {
        "id": "jvV-OCJuP_iT"
      },
      "execution_count": 86,
      "outputs": []
    },
    {
      "cell_type": "code",
      "source": [
        "model.compile(optimizer='adam',loss='categorical_crossentropy',metrics=['accuracy'])"
      ],
      "metadata": {
        "id": "JnQbUfi-RZfL"
      },
      "execution_count": 87,
      "outputs": []
    },
    {
      "cell_type": "code",
      "source": [
        "model.fit(X_train,y_train,batch_size=12,epochs=40)"
      ],
      "metadata": {
        "id": "YUU0mgC4ReuD",
        "colab": {
          "base_uri": "https://localhost:8080/"
        },
        "outputId": "555f4d22-84b3-4b21-a4a0-8c5f7351e050"
      },
      "execution_count": 88,
      "outputs": [
        {
          "output_type": "stream",
          "name": "stdout",
          "text": [
            "Epoch 1/40\n",
            "101/101 [==============================] - 1s 2ms/step - loss: 1.3572 - accuracy: 0.5070\n",
            "Epoch 2/40\n",
            "101/101 [==============================] - 0s 2ms/step - loss: 1.1684 - accuracy: 0.7055\n",
            "Epoch 3/40\n",
            "101/101 [==============================] - 0s 2ms/step - loss: 0.8328 - accuracy: 0.7055\n",
            "Epoch 4/40\n",
            "101/101 [==============================] - 0s 2ms/step - loss: 0.7784 - accuracy: 0.7055\n",
            "Epoch 5/40\n",
            "101/101 [==============================] - 0s 2ms/step - loss: 0.7586 - accuracy: 0.7055\n",
            "Epoch 6/40\n",
            "101/101 [==============================] - 0s 2ms/step - loss: 0.7362 - accuracy: 0.7055\n",
            "Epoch 7/40\n",
            "101/101 [==============================] - 0s 2ms/step - loss: 0.7201 - accuracy: 0.7055\n",
            "Epoch 8/40\n",
            "101/101 [==============================] - 0s 2ms/step - loss: 0.7068 - accuracy: 0.7055\n",
            "Epoch 9/40\n",
            "101/101 [==============================] - 0s 3ms/step - loss: 0.6940 - accuracy: 0.7122\n",
            "Epoch 10/40\n",
            "101/101 [==============================] - 0s 3ms/step - loss: 0.6823 - accuracy: 0.7188\n",
            "Epoch 11/40\n",
            "101/101 [==============================] - 0s 3ms/step - loss: 0.6721 - accuracy: 0.7270\n",
            "Epoch 12/40\n",
            "101/101 [==============================] - 0s 3ms/step - loss: 0.6633 - accuracy: 0.7163\n",
            "Epoch 13/40\n",
            "101/101 [==============================] - 0s 3ms/step - loss: 0.6535 - accuracy: 0.7188\n",
            "Epoch 14/40\n",
            "101/101 [==============================] - 0s 3ms/step - loss: 0.6434 - accuracy: 0.7155\n",
            "Epoch 15/40\n",
            "101/101 [==============================] - 0s 3ms/step - loss: 0.6355 - accuracy: 0.7196\n",
            "Epoch 16/40\n",
            "101/101 [==============================] - 0s 3ms/step - loss: 0.6291 - accuracy: 0.7138\n",
            "Epoch 17/40\n",
            "101/101 [==============================] - 0s 3ms/step - loss: 0.6260 - accuracy: 0.7105\n",
            "Epoch 18/40\n",
            "101/101 [==============================] - 0s 3ms/step - loss: 0.6207 - accuracy: 0.7138\n",
            "Epoch 19/40\n",
            "101/101 [==============================] - 0s 4ms/step - loss: 0.6178 - accuracy: 0.7188\n",
            "Epoch 20/40\n",
            "101/101 [==============================] - 0s 3ms/step - loss: 0.6140 - accuracy: 0.7138\n",
            "Epoch 21/40\n",
            "101/101 [==============================] - 0s 2ms/step - loss: 0.6100 - accuracy: 0.7188\n",
            "Epoch 22/40\n",
            "101/101 [==============================] - 0s 2ms/step - loss: 0.6088 - accuracy: 0.7229\n",
            "Epoch 23/40\n",
            "101/101 [==============================] - 0s 2ms/step - loss: 0.6056 - accuracy: 0.7229\n",
            "Epoch 24/40\n",
            "101/101 [==============================] - 0s 2ms/step - loss: 0.6025 - accuracy: 0.7188\n",
            "Epoch 25/40\n",
            "101/101 [==============================] - 0s 2ms/step - loss: 0.6004 - accuracy: 0.7229\n",
            "Epoch 26/40\n",
            "101/101 [==============================] - 0s 2ms/step - loss: 0.5989 - accuracy: 0.7270\n",
            "Epoch 27/40\n",
            "101/101 [==============================] - 0s 2ms/step - loss: 0.5969 - accuracy: 0.7171\n",
            "Epoch 28/40\n",
            "101/101 [==============================] - 0s 2ms/step - loss: 0.5920 - accuracy: 0.7295\n",
            "Epoch 29/40\n",
            "101/101 [==============================] - 0s 2ms/step - loss: 0.5897 - accuracy: 0.7262\n",
            "Epoch 30/40\n",
            "101/101 [==============================] - 0s 2ms/step - loss: 0.5861 - accuracy: 0.7270\n",
            "Epoch 31/40\n",
            "101/101 [==============================] - 0s 2ms/step - loss: 0.5826 - accuracy: 0.7353\n",
            "Epoch 32/40\n",
            "101/101 [==============================] - 0s 2ms/step - loss: 0.5784 - accuracy: 0.7469\n",
            "Epoch 33/40\n",
            "101/101 [==============================] - 0s 2ms/step - loss: 0.5716 - accuracy: 0.7469\n",
            "Epoch 34/40\n",
            "101/101 [==============================] - 0s 2ms/step - loss: 0.5620 - accuracy: 0.7461\n",
            "Epoch 35/40\n",
            "101/101 [==============================] - 0s 2ms/step - loss: 0.5540 - accuracy: 0.7618\n",
            "Epoch 36/40\n",
            "101/101 [==============================] - 0s 2ms/step - loss: 0.5414 - accuracy: 0.7734\n",
            "Epoch 37/40\n",
            "101/101 [==============================] - 0s 2ms/step - loss: 0.5291 - accuracy: 0.7841\n",
            "Epoch 38/40\n",
            "101/101 [==============================] - 0s 2ms/step - loss: 0.5132 - accuracy: 0.8007\n",
            "Epoch 39/40\n",
            "101/101 [==============================] - 0s 2ms/step - loss: 0.4942 - accuracy: 0.8156\n",
            "Epoch 40/40\n",
            "101/101 [==============================] - 0s 2ms/step - loss: 0.4699 - accuracy: 0.8280\n"
          ]
        },
        {
          "output_type": "execute_result",
          "data": {
            "text/plain": [
              "<keras.callbacks.History at 0x7f8ef211a760>"
            ]
          },
          "metadata": {},
          "execution_count": 88
        }
      ]
    },
    {
      "cell_type": "code",
      "source": [
        "loss,acc=model.evaluate(X_test,y_test)\n",
        "print(acc)\n",
        "print(loss)"
      ],
      "metadata": {
        "id": "CkVTyAXNRmaG",
        "colab": {
          "base_uri": "https://localhost:8080/"
        },
        "outputId": "35249779-1cdd-40c9-d816-5e388090d744"
      },
      "execution_count": 89,
      "outputs": [
        {
          "output_type": "stream",
          "name": "stdout",
          "text": [
            "17/17 [==============================] - 0s 2ms/step - loss: 0.5302 - accuracy: 0.7881\n",
            "0.7880539298057556\n",
            "0.5302214026451111\n"
          ]
        }
      ]
    }
  ]
}